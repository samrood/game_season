{
 "cells": [
  {
   "cell_type": "markdown",
   "metadata": {},
   "source": [
    "## Recommendation System\n",
    "This notebook will call in data that we cleaned in our previous notebook. We will then tranform the text data into readable form and run cosine similarities on our games."
   ]
  },
  {
   "cell_type": "markdown",
   "metadata": {},
   "source": [
    "***\n",
    "## imports \n",
    "Import necessary packages and call in pickle file "
   ]
  },
  {
   "cell_type": "code",
   "execution_count": 1,
   "metadata": {},
   "outputs": [],
   "source": [
    "import warnings\n",
    "warnings.filterwarnings('ignore')\n",
    "\n",
    "import pandas as pd\n",
    "import matplotlib.pyplot as plt\n",
    "import pickle\n",
    "\n",
    "import nltk\n",
    "from nltk.corpus import stopwords \n",
    "from nltk.tokenize import word_tokenize \n",
    "from sklearn.feature_extraction.text import CountVectorizer\n",
    "from sklearn.metrics.pairwise import cosine_similarity\n",
    "\n",
    "from datetime import date"
   ]
  },
  {
   "cell_type": "code",
   "execution_count": null,
   "metadata": {},
   "outputs": [],
   "source": [
    "df = pd.read_pickle(\"data/simple.pkl\")"
   ]
  },
  {
   "cell_type": "markdown",
   "metadata": {},
   "source": [
    "***\n",
    "## Build Rec"
   ]
  },
  {
   "cell_type": "markdown",
   "metadata": {},
   "source": [
    "#### This next function takes in our dataframe and compute the similarities between the game"
   ]
  },
  {
   "cell_type": "code",
   "execution_count": 4,
   "metadata": {},
   "outputs": [],
   "source": [
    "def get_similarity(df):\n",
    "    stopwords = nltk.corpus.stopwords.words('english')\n",
    "    # the mature content section says these words frequently:\n",
    "    newStopWords = ['description', 'developers', 'describe']\n",
    "    stopwords.extend(newStopWords)\n",
    "\n",
    "    count = CountVectorizer(stop_words=newStopWords)\n",
    "    count_matrix = count.fit_transform(df['soup'])\n",
    "    \n",
    "    # Compute the cosine similarity matrix based on the count_matrix\n",
    "    cosine_sim = cosine_similarity(count_matrix, count_matrix)\n",
    "    \n",
    "    # reset index of the main df and create a reverse mapping\n",
    "    df = df.reset_index()\n",
    "    indices = pd.Series(df.index, index = df['name'])\n",
    "    \n",
    "    return cosine_sim, indices"
   ]
  },
  {
   "cell_type": "markdown",
   "metadata": {},
   "source": [
    "#### This next function takes in game title as input and outputs the 10 most similar games"
   ]
  },
  {
   "cell_type": "code",
   "execution_count": 5,
   "metadata": {},
   "outputs": [],
   "source": [
    "def get_recommendations(name, df):\n",
    "    \n",
    "    cosine_sim, indices = get_similarity(df)\n",
    "    \n",
    "    # Get the index of the game that matches the name\n",
    "    idx = indices[name]\n",
    "\n",
    "    # Get the pairwsie similarity scores of all games with that game\n",
    "    sim_scores = list(enumerate(cosine_sim[idx]))\n",
    "\n",
    "    # Sort the games based on the similarity scores\n",
    "    sim_scores = sorted(sim_scores, key=lambda x: x[1], reverse=True)\n",
    "\n",
    "    # make a df to put place scores and game names\n",
    "    recs_df = pd.DataFrame() \n",
    "    \n",
    "    # Get the scores of the 10 most similar movies\n",
    "    sim_scores = sim_scores[1:6]\n",
    "    recs_df['score'] = [i[1] for i in sim_scores]\n",
    "\n",
    "    # Get the movie indices\n",
    "    game_indices = [i[0] for i in sim_scores]\n",
    "    \n",
    "    # put the game info in the df\n",
    "    games = []\n",
    "    est_revenues = []\n",
    "    seasons = []\n",
    "    years = []\n",
    "    for i in game_indices:\n",
    "        game = df['name'].iloc[i]\n",
    "        games.append(game)\n",
    "        \n",
    "        est_rev = df['est_revenue'].iloc[i]\n",
    "        est_revenues.append(est_rev)\n",
    "        \n",
    "        season = df['season'].iloc[i]\n",
    "        seasons.append(season)\n",
    "        \n",
    "        year = df['year'].iloc[i]\n",
    "        years.append(year)\n",
    "        \n",
    "    recs_df['game'] = games\n",
    "    recs_df['est_revenue'] = est_revenues\n",
    "    recs_df['season'] = seasons\n",
    "    recs_df['year'] = years\n",
    "    \n",
    "    recs_df = recs_df.reset_index()\n",
    "    \n",
    "    return recs_df"
   ]
  },
  {
   "cell_type": "markdown",
   "metadata": {},
   "source": [
    "#### This fucntion will take in a game and our df. Then using the 10 most similar games and looking at the revenue and season release of each game it will out put the recommended season to release the game entered for the best revenue."
   ]
  },
  {
   "cell_type": "code",
   "execution_count": 6,
   "metadata": {},
   "outputs": [],
   "source": [
    "def get_season(name, df):\n",
    "    rec_df = get_recommendations(name, df)\n",
    "    \n",
    "    season = 'none'\n",
    "    \n",
    "    year = date.today().year\n",
    "    oldest = year - 20 \n",
    "    rec_df = rec_df[rec_df.year >= oldest]\n",
    "    \n",
    "    if rec_df.est_revenue.idxmax() == 0:\n",
    "        season = rec_df.loc[[0], 'season'].iloc[0]\n",
    "        \n",
    "    else: \n",
    "        rec_df = rec_df.sort_values(by=['est_revenue', 'score'], ascending=False)\n",
    "        rec_df = rec_df.reset_index(drop=True)\n",
    "        season = rec_df.loc[[0], 'season'].iloc[0]\n",
    "    \n",
    "    return season "
   ]
  },
  {
   "cell_type": "code",
   "execution_count": 7,
   "metadata": {},
   "outputs": [
    {
     "data": {
      "text/html": [
       "<div>\n",
       "<style scoped>\n",
       "    .dataframe tbody tr th:only-of-type {\n",
       "        vertical-align: middle;\n",
       "    }\n",
       "\n",
       "    .dataframe tbody tr th {\n",
       "        vertical-align: top;\n",
       "    }\n",
       "\n",
       "    .dataframe thead th {\n",
       "        text-align: right;\n",
       "    }\n",
       "</style>\n",
       "<table border=\"1\" class=\"dataframe\">\n",
       "  <thead>\n",
       "    <tr style=\"text-align: right;\">\n",
       "      <th></th>\n",
       "      <th>index</th>\n",
       "      <th>score</th>\n",
       "      <th>game</th>\n",
       "      <th>est_revenue</th>\n",
       "      <th>season</th>\n",
       "      <th>year</th>\n",
       "    </tr>\n",
       "  </thead>\n",
       "  <tbody>\n",
       "    <tr>\n",
       "      <th>0</th>\n",
       "      <td>0</td>\n",
       "      <td>0.609567</td>\n",
       "      <td>team fortress classic</td>\n",
       "      <td>29925000.0</td>\n",
       "      <td>spring</td>\n",
       "      <td>1999</td>\n",
       "    </tr>\n",
       "    <tr>\n",
       "      <th>1</th>\n",
       "      <td>1</td>\n",
       "      <td>0.571170</td>\n",
       "      <td>counterstrike source</td>\n",
       "      <td>107850000.0</td>\n",
       "      <td>fall</td>\n",
       "      <td>2004</td>\n",
       "    </tr>\n",
       "    <tr>\n",
       "      <th>2</th>\n",
       "      <td>2</td>\n",
       "      <td>0.515841</td>\n",
       "      <td>tannenberg</td>\n",
       "      <td>2323500.0</td>\n",
       "      <td>fall</td>\n",
       "      <td>2017</td>\n",
       "    </tr>\n",
       "    <tr>\n",
       "      <th>3</th>\n",
       "      <td>3</td>\n",
       "      <td>0.498077</td>\n",
       "      <td>intruder</td>\n",
       "      <td>154900.0</td>\n",
       "      <td>spring</td>\n",
       "      <td>2019</td>\n",
       "    </tr>\n",
       "    <tr>\n",
       "      <th>4</th>\n",
       "      <td>4</td>\n",
       "      <td>0.497346</td>\n",
       "      <td>ricochet</td>\n",
       "      <td>29925000.0</td>\n",
       "      <td>fall</td>\n",
       "      <td>2000</td>\n",
       "    </tr>\n",
       "  </tbody>\n",
       "</table>\n",
       "</div>"
      ],
      "text/plain": [
       "   index     score                   game  est_revenue  season  year\n",
       "0      0  0.609567  team fortress classic   29925000.0  spring  1999\n",
       "1      1  0.571170   counterstrike source  107850000.0    fall  2004\n",
       "2      2  0.515841             tannenberg    2323500.0    fall  2017\n",
       "3      3  0.498077               intruder     154900.0  spring  2019\n",
       "4      4  0.497346               ricochet   29925000.0    fall  2000"
      ]
     },
     "execution_count": 7,
     "metadata": {},
     "output_type": "execute_result"
    }
   ],
   "source": [
    "get_recommendations('counterstrike', df)"
   ]
  },
  {
   "cell_type": "code",
   "execution_count": 8,
   "metadata": {},
   "outputs": [
    {
     "data": {
      "text/plain": [
       "'fall'"
      ]
     },
     "execution_count": 8,
     "metadata": {},
     "output_type": "execute_result"
    }
   ],
   "source": [
    "get_season('counterstrike', df)"
   ]
  },
  {
   "cell_type": "code",
   "execution_count": 9,
   "metadata": {},
   "outputs": [
    {
     "data": {
      "text/html": [
       "<div>\n",
       "<style scoped>\n",
       "    .dataframe tbody tr th:only-of-type {\n",
       "        vertical-align: middle;\n",
       "    }\n",
       "\n",
       "    .dataframe tbody tr th {\n",
       "        vertical-align: top;\n",
       "    }\n",
       "\n",
       "    .dataframe thead th {\n",
       "        text-align: right;\n",
       "    }\n",
       "</style>\n",
       "<table border=\"1\" class=\"dataframe\">\n",
       "  <thead>\n",
       "    <tr style=\"text-align: right;\">\n",
       "      <th></th>\n",
       "      <th>index</th>\n",
       "      <th>score</th>\n",
       "      <th>game</th>\n",
       "      <th>est_revenue</th>\n",
       "      <th>season</th>\n",
       "      <th>year</th>\n",
       "    </tr>\n",
       "  </thead>\n",
       "  <tbody>\n",
       "    <tr>\n",
       "      <th>0</th>\n",
       "      <td>0</td>\n",
       "      <td>0.651912</td>\n",
       "      <td>call of duty modern warfare 2</td>\n",
       "      <td>149925000.0</td>\n",
       "      <td>fall</td>\n",
       "      <td>2009</td>\n",
       "    </tr>\n",
       "    <tr>\n",
       "      <th>1</th>\n",
       "      <td>1</td>\n",
       "      <td>0.596694</td>\n",
       "      <td>call of duty 4 modern warfare</td>\n",
       "      <td>29985000.0</td>\n",
       "      <td>fall</td>\n",
       "      <td>2007</td>\n",
       "    </tr>\n",
       "    <tr>\n",
       "      <th>2</th>\n",
       "      <td>2</td>\n",
       "      <td>0.588420</td>\n",
       "      <td>halflife blue shift</td>\n",
       "      <td>29925000.0</td>\n",
       "      <td>summer</td>\n",
       "      <td>2001</td>\n",
       "    </tr>\n",
       "    <tr>\n",
       "      <th>3</th>\n",
       "      <td>3</td>\n",
       "      <td>0.587793</td>\n",
       "      <td>star wars battlefront 2 classic 2005</td>\n",
       "      <td>25165000.0</td>\n",
       "      <td>summer</td>\n",
       "      <td>2009</td>\n",
       "    </tr>\n",
       "    <tr>\n",
       "      <th>4</th>\n",
       "      <td>4</td>\n",
       "      <td>0.582840</td>\n",
       "      <td>halflife</td>\n",
       "      <td>53925000.0</td>\n",
       "      <td>fall</td>\n",
       "      <td>1998</td>\n",
       "    </tr>\n",
       "  </tbody>\n",
       "</table>\n",
       "</div>"
      ],
      "text/plain": [
       "   index     score                                  game  est_revenue  season  \\\n",
       "0      0  0.651912         call of duty modern warfare 2  149925000.0    fall   \n",
       "1      1  0.596694         call of duty 4 modern warfare   29985000.0    fall   \n",
       "2      2  0.588420                   halflife blue shift   29925000.0  summer   \n",
       "3      3  0.587793  star wars battlefront 2 classic 2005   25165000.0  summer   \n",
       "4      4  0.582840                              halflife   53925000.0    fall   \n",
       "\n",
       "   year  \n",
       "0  2009  \n",
       "1  2007  \n",
       "2  2001  \n",
       "3  2009  \n",
       "4  1998  "
      ]
     },
     "execution_count": 9,
     "metadata": {},
     "output_type": "execute_result"
    }
   ],
   "source": [
    "get_recommendations('halflife opposing force', df)"
   ]
  },
  {
   "cell_type": "code",
   "execution_count": 10,
   "metadata": {},
   "outputs": [
    {
     "data": {
      "text/plain": [
       "'fall'"
      ]
     },
     "execution_count": 10,
     "metadata": {},
     "output_type": "execute_result"
    }
   ],
   "source": [
    "get_season('halflife opposing force', df)"
   ]
  },
  {
   "cell_type": "markdown",
   "metadata": {},
   "source": [
    "#### (This is recommending when to release a game that has already been out and is in out dataframe. Look at flask app to see how we would do this using a new game that a user can input.)"
   ]
  },
  {
   "cell_type": "code",
   "execution_count": null,
   "metadata": {},
   "outputs": [],
   "source": []
  }
 ],
 "metadata": {
  "kernelspec": {
   "display_name": "Python [conda env:metis] *",
   "language": "python",
   "name": "conda-env-metis-py"
  },
  "language_info": {
   "codemirror_mode": {
    "name": "ipython",
    "version": 3
   },
   "file_extension": ".py",
   "mimetype": "text/x-python",
   "name": "python",
   "nbconvert_exporter": "python",
   "pygments_lexer": "ipython3",
   "version": "3.7.4"
  }
 },
 "nbformat": 4,
 "nbformat_minor": 2
}
